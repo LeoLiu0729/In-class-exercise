{
 "cells": [
  {
   "cell_type": "markdown",
   "id": "cacc607b",
   "metadata": {},
   "source": [
    "# 1"
   ]
  },
  {
   "cell_type": "code",
   "execution_count": 2,
   "id": "b470a5d3",
   "metadata": {},
   "outputs": [],
   "source": [
    "import numpy as np\n"
   ]
  },
  {
   "cell_type": "code",
   "execution_count": 5,
   "id": "bff05b86",
   "metadata": {},
   "outputs": [
    {
     "data": {
      "text/plain": [
       "array([72, 82, 39, 82, 24, 14, 16,  6, 72, 64])"
      ]
     },
     "execution_count": 5,
     "metadata": {},
     "output_type": "execute_result"
    }
   ],
   "source": [
    "# Generate a 1D numpy array of 10 random integers between 1 and 100\n",
    "random_integers = np.random.randint(1, 101, size=10)\n",
    "\n",
    "random_integers"
   ]
  },
  {
   "cell_type": "code",
   "execution_count": 6,
   "id": "7b86bf01",
   "metadata": {},
   "outputs": [
    {
     "data": {
      "text/plain": [
       "(72, 64)"
      ]
     },
     "execution_count": 6,
     "metadata": {},
     "output_type": "execute_result"
    }
   ],
   "source": [
    "# Access and print the first and last element of the array\n",
    "first_element = random_integers[0]\n",
    "last_element = random_integers[-1]\n",
    "\n",
    "first_element, last_element"
   ]
  },
  {
   "cell_type": "code",
   "execution_count": 8,
   "id": "e7128f51",
   "metadata": {},
   "outputs": [
    {
     "name": "stdout",
     "output_type": "stream",
     "text": [
      "[[0.72254996 0.34131601 0.05046031]\n",
      " [0.70737947 0.42408981 0.10363517]\n",
      " [0.45162373 0.2517845  0.47356306]]\n"
     ]
    }
   ],
   "source": [
    "# Generate a 2D numpy array of shape (3,3) with random floating-point numbers \n",
    "import numpy as np\n",
    "\n",
    "floating_point = np.random.rand(3, 3)\n",
    "\n",
    "print(floating_point)\n"
   ]
  },
  {
   "cell_type": "markdown",
   "id": "97e88da5",
   "metadata": {},
   "source": [
    "# 2"
   ]
  },
  {
   "cell_type": "code",
   "execution_count": 12,
   "id": "e71b07fe",
   "metadata": {},
   "outputs": [
    {
     "name": "stdout",
     "output_type": "stream",
     "text": [
      "[0.72254996 0.34131601 0.05046031]\n"
     ]
    }
   ],
   "source": [
    "# First row\n",
    "first_row = floating_point [0]\n",
    "print(first_row)"
   ]
  },
  {
   "cell_type": "code",
   "execution_count": 13,
   "id": "38b706de",
   "metadata": {},
   "outputs": [
    {
     "name": "stdout",
     "output_type": "stream",
     "text": [
      "[0.45162373 0.2517845  0.47356306]\n"
     ]
    }
   ],
   "source": [
    "# Last row\n",
    "Last_row = floating_point [2]\n",
    "print(Last_row)"
   ]
  },
  {
   "cell_type": "code",
   "execution_count": 14,
   "id": "c62ef9f1",
   "metadata": {},
   "outputs": [
    {
     "name": "stdout",
     "output_type": "stream",
     "text": [
      "[[0.72254996 0.34131601]\n",
      " [0.70737947 0.42408981]]\n"
     ]
    }
   ],
   "source": [
    "# First two row and first two coulumns\n",
    "sub_array = floating_point[:2, :2]\n",
    "print(sub_array)"
   ]
  },
  {
   "cell_type": "markdown",
   "id": "773d37df",
   "metadata": {},
   "source": [
    "# 3"
   ]
  },
  {
   "cell_type": "code",
   "execution_count": 15,
   "id": "e61cc9f5",
   "metadata": {},
   "outputs": [
    {
     "name": "stdout",
     "output_type": "stream",
     "text": [
      "First array: [90 48  8 57  1]\n",
      "Second array: [ 7 95 87 33 46]\n",
      "Result of addition: [ 97 143  95  90  47]\n"
     ]
    }
   ],
   "source": [
    "import numpy as np\n",
    "\n",
    "# Generate two 1D NumPy arrays of 5 random integers each\n",
    "array1 = np.random.randint(1, 101, size=5)\n",
    "array2 = np.random.randint(1, 101, size=5)\n",
    "\n",
    "# Add the two arrays\n",
    "result_array = array1 + array2\n",
    "\n",
    "print(\"First array:\", array1)\n",
    "print(\"Second array:\", array2)\n",
    "print(\"Result of addition:\", result_array)\n",
    "\n"
   ]
  },
  {
   "cell_type": "code",
   "execution_count": 21,
   "id": "e9fcb70e",
   "metadata": {},
   "outputs": [
    {
     "name": "stdout",
     "output_type": "stream",
     "text": [
      "First array: [90 48  8 57  1]\n",
      "Second array: [ 7 95 87 33 46]\n",
      "Result of Multiply: [ 630 4560  696 1881   46]\n"
     ]
    }
   ],
   "source": [
    "# Multiply\n",
    "print(\"First array:\", array1)\n",
    "print(\"Second array:\", array2)\n",
    "print(\"Result of Multiply:\",np.multiply(array1, array2)) "
   ]
  },
  {
   "cell_type": "code",
   "execution_count": 22,
   "id": "e034745e",
   "metadata": {},
   "outputs": [
    {
     "name": "stdout",
     "output_type": "stream",
     "text": [
      "Squared array: [8100 2304   64 3249    1]\n"
     ]
    }
   ],
   "source": [
    "# Calculate the square of every element in the first array\n",
    "squared_array1 = np.square(array1)\n",
    "\n",
    "print(\"Squared array:\", squared_array1)\n"
   ]
  },
  {
   "cell_type": "markdown",
   "id": "6d3492ed",
   "metadata": {},
   "source": [
    "# 4"
   ]
  },
  {
   "cell_type": "code",
   "execution_count": 23,
   "id": "062df779",
   "metadata": {},
   "outputs": [
    {
     "name": "stdout",
     "output_type": "stream",
     "text": [
      "Array A:\n",
      " [[17 13 49]\n",
      " [30 57 20]]\n",
      "Array B:\n",
      " [5601 4194]\n",
      "Result of matrix multiplication:\n",
      " [5880 5502] [5601 4194]\n"
     ]
    }
   ],
   "source": [
    "import numpy as np\n",
    "\n",
    "# Generate two 2D NumPy arrays\n",
    "A = np.random.randint(1, 101, size=(2, 3))\n",
    "B = np.random.randint(1, 101, size=(3, 2))\n",
    "\n",
    "# Perform matrix multiplication between A and B\n",
    "result_A,B = A @ B  # Alternatively, np.dot(A, B) can be used\n",
    "\n",
    "print(\"Array A:\\n\", A)\n",
    "print(\"Array B:\\n\", B)\n",
    "print(\"Result of matrix multiplication:\\n\", result_A,B)\n"
   ]
  },
  {
   "cell_type": "markdown",
   "id": "97ac0fc0",
   "metadata": {},
   "source": [
    "# No, operands could not be broadcast with shapes (2,3)(3,2)"
   ]
  }
 ],
 "metadata": {
  "kernelspec": {
   "display_name": "Python 3 (ipykernel)",
   "language": "python",
   "name": "python3"
  },
  "language_info": {
   "codemirror_mode": {
    "name": "ipython",
    "version": 3
   },
   "file_extension": ".py",
   "mimetype": "text/x-python",
   "name": "python",
   "nbconvert_exporter": "python",
   "pygments_lexer": "ipython3",
   "version": "3.11.5"
  }
 },
 "nbformat": 4,
 "nbformat_minor": 5
}
